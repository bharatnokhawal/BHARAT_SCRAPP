{
  "nbformat": 4,
  "nbformat_minor": 0,
  "metadata": {
    "colab": {
      "provenance": []
    },
    "kernelspec": {
      "name": "python3",
      "display_name": "Python 3"
    },
    "language_info": {
      "name": "python"
    }
  },
  "cells": [
    {
      "cell_type": "code",
      "source": [
        "pip install requests\n"
      ],
      "metadata": {
        "colab": {
          "base_uri": "https://localhost:8080/"
        },
        "id": "o3c9mFde4Rvn",
        "outputId": "8965682b-d97e-429b-dfaf-e8e965431b35"
      },
      "execution_count": 1,
      "outputs": [
        {
          "output_type": "stream",
          "name": "stdout",
          "text": [
            "Requirement already satisfied: requests in /usr/local/lib/python3.10/dist-packages (2.31.0)\n",
            "Requirement already satisfied: charset-normalizer<4,>=2 in /usr/local/lib/python3.10/dist-packages (from requests) (3.3.2)\n",
            "Requirement already satisfied: idna<4,>=2.5 in /usr/local/lib/python3.10/dist-packages (from requests) (3.6)\n",
            "Requirement already satisfied: urllib3<3,>=1.21.1 in /usr/local/lib/python3.10/dist-packages (from requests) (2.0.7)\n",
            "Requirement already satisfied: certifi>=2017.4.17 in /usr/local/lib/python3.10/dist-packages (from requests) (2024.2.2)\n"
          ]
        }
      ]
    },
    {
      "cell_type": "code",
      "source": [
        "import requests\n",
        "\n",
        "def retrieve_profiles_by_vanity_name(access_token, vanity_name):\n",
        "    url = f\"https://api.linkedin.com/v2/people?q=vanityName&vanityName={vanity_name}\"\n",
        "    headers = {\n",
        "        \"Authorization\": f\"Bearer {access_token}\",\n",
        "        \"Accept\": \"application/json\",\n",
        "        \"Content-Type\": \"application/json\"\n",
        "    }\n",
        "\n",
        "    try:\n",
        "        response = requests.get(url, headers=headers)\n",
        "        if response.status_code == 200:\n",
        "            profiles = response.json()\n",
        "            return profiles\n",
        "        else:\n",
        "            print(f\"Error retrieving profiles: {response.status_code} - {response.text}\")\n",
        "            return None\n",
        "    except Exception as e:\n",
        "        print(f\"Error retrieving profiles: {e}\")\n",
        "        return None\n",
        "\n",
        "if __name__ == \"__main__\":\n",
        "    # Replace 'YOUR_ACCESS_TOKEN' with your actual access token\n",
        "    access_token = \"AQUOUZ4NalKsNp_IkT0vZsp5OKG7e_nhyGEXQ0ULdxfQz1WwPfESOXnb7QPxZMybqvoD6G1XLxyWtVFsrccSNuO4aMLgH6krIa5_LRLcUDQp8Y_FEKH_R9ByMpn8yLYFV_ONs4btjOZLPCaMeCrsRNqDOQt4M2wdbjH7rWz0ujftu1jPHW4R2A-CVPId5WkCVNbmP58nL4aM_M3vJiM8S6xU4aHjrFrABSNCFaXuiADKqv7PCS3przW69xEcKAcXav8kK7BVXYZykfKMunU6c0RILzZLRu9r-r9RvTNkcylxN5huIai5S0SSwZE4QHuzHoJapFMVVaXOyDuxT5yhBu99QsrQlA\"\n",
        "    vanity_name = \"bharat kumawat\"  #vanity name\n",
        "    profiles = retrieve_profiles_by_vanity_name(access_token, vanity_name)\n",
        "    if profiles:\n",
        "        print(\"Retrieved profiles successfully:\")\n",
        "        print(profiles)\n",
        "    else:\n",
        "        print(\"Failed to retrieve profiles.\")\n"
      ],
      "metadata": {
        "colab": {
          "base_uri": "https://localhost:8080/"
        },
        "id": "ICrsJSRtGCBX",
        "outputId": "480119af-82e4-4aa7-fe7f-15503e234fb9"
      },
      "execution_count": 3,
      "outputs": [
        {
          "output_type": "stream",
          "name": "stdout",
          "text": [
            "Error retrieving profiles: 403 - {\"serviceErrorCode\":100,\"message\":\"Not enough permissions to access: GET-vanityName /people\",\"status\":403}\n",
            "Failed to retrieve profiles.\n"
          ]
        }
      ]
    },
    {
      "cell_type": "markdown",
      "source": [],
      "metadata": {
        "id": "d8dKNkzbhB8w"
      }
    }
  ]
}